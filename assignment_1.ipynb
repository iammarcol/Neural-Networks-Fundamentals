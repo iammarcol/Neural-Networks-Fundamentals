{
 "cells": [
  {
   "attachments": {},
   "cell_type": "markdown",
   "metadata": {},
   "source": [
    "## Assignment_1\n",
    "\n",
    "Use a given input as a dataset to train the single layer perceptron to learn this pattern. Instead of using the AND or OR operators, use the same code in order to classify whether a person will earn or not a salary increase. Variables - age and education.\n",
    "\n",
    "inputs=np.array([[18,2], [20,3], [21, 4], [35,15], [36,16], [38, 18]])\n",
    "outputs=np.array([0, 0, 0, 1, 1, 1])\n",
    "\n",
    "Class \"0\" (zero) indicates a person won't earn a salary increase, otherwise, class \"1\" (one) indicates a person will earn a salary increase. After training the single layer perceptron, use the new instances below to make predictions. Will the instances below be classified 0 or 1?\n",
    "\n",
    "test_inputs=np.array([[17,5], [25,8], [45,10], [31,20]])"
   ]
  },
  {
   "cell_type": "code",
   "execution_count": 85,
   "metadata": {},
   "outputs": [],
   "source": [
    "# loading libraries\n",
    "import numpy as np\n",
    "import sklearn\n",
    "from sklearn.preprocessing import MinMaxScaler\n",
    "\n"
   ]
  },
  {
   "cell_type": "code",
   "execution_count": 86,
   "metadata": {},
   "outputs": [
    {
     "name": "stdout",
     "output_type": "stream",
     "text": [
      "MinMaxScaler()\n"
     ]
    },
    {
     "data": {
      "text/plain": [
       "array([[0.    , 0.    ],\n",
       "       [0.1   , 0.0625],\n",
       "       [0.15  , 0.125 ],\n",
       "       [0.85  , 0.8125],\n",
       "       [0.9   , 0.875 ],\n",
       "       [1.    , 1.    ]])"
      ]
     },
     "execution_count": 86,
     "metadata": {},
     "output_type": "execute_result"
    }
   ],
   "source": [
    "inputs=np.array([[18,2], [20,3], [21, 4], [35,15], [36,16], [38, 18]]) \n",
    "# the input has to be normalized before training\n",
    "scaler = MinMaxScaler()\n",
    "print(scaler.fit(inputs))\n",
    "inputs=scaler.transform(inputs)\n",
    "inputs # the input data has been normalized\n"
   ]
  },
  {
   "cell_type": "code",
   "execution_count": 87,
   "metadata": {},
   "outputs": [
    {
     "data": {
      "text/plain": [
       "(6, 2)"
      ]
     },
     "execution_count": 87,
     "metadata": {},
     "output_type": "execute_result"
    }
   ],
   "source": [
    "inputs.shape # describes the number of dimensions and the size of each dimension of the array"
   ]
  },
  {
   "cell_type": "code",
   "execution_count": 88,
   "metadata": {},
   "outputs": [
    {
     "data": {
      "text/plain": [
       "(6,)"
      ]
     },
     "execution_count": 88,
     "metadata": {},
     "output_type": "execute_result"
    }
   ],
   "source": [
    "outputs=np.array([0, 0, 0, 1, 1, 1])\n",
    "weights=np.array([0.0,0.0])\n",
    "learning_rate=0.1 # parameter of neural network that indicates how fast the processing will be done\n",
    "outputs.shape"
   ]
  },
  {
   "cell_type": "code",
   "execution_count": 89,
   "metadata": {},
   "outputs": [],
   "source": [
    "def step_function(sum):\n",
    "    if (sum >= 1):\n",
    "        return 1\n",
    "    return 0"
   ]
  },
  {
   "cell_type": "code",
   "execution_count": 90,
   "metadata": {},
   "outputs": [],
   "source": [
    "def calculate_output(instance):\n",
    "    s=instance.dot(weights)\n",
    "    return step_function(s)"
   ]
  },
  {
   "cell_type": "code",
   "execution_count": 91,
   "metadata": {},
   "outputs": [
    {
     "name": "stdout",
     "output_type": "stream",
     "text": [
      "Weight updated: 0.085\n",
      "Weight updated: 0.08125\n",
      "Total error: 1\n",
      "Weight updated: 0.17500000000000002\n",
      "Weight updated: 0.16875\n",
      "Total error: 2\n",
      "Weight updated: 0.275\n",
      "Weight updated: 0.26875000000000004\n",
      "Total error: 3\n",
      "Weight updated: 0.36000000000000004\n",
      "Weight updated: 0.35000000000000003\n",
      "Total error: 1\n",
      "Weight updated: 0.45000000000000007\n",
      "Weight updated: 0.43750000000000006\n",
      "Total error: 2\n",
      "Weight updated: 0.55\n",
      "Weight updated: 0.5375000000000001\n",
      "Total error: 3\n",
      "Weight updated: 0.635\n",
      "Weight updated: 0.6187500000000001\n",
      "Total error: 1\n"
     ]
    }
   ],
   "source": [
    "def train():\n",
    "    total_error=1\n",
    "    while (total_error !=0):\n",
    "        total_error=0\n",
    "        for i in range(len(outputs)):\n",
    "            prediction=calculate_output(inputs[i]) # go through each of the instances\n",
    "            error = abs(outputs[i]-prediction) # abs is absolute f-ion\n",
    "            total_error+=error # accumulating error in the variable total error\n",
    "            if error>0:\n",
    "                for j in range(len(weights)):\n",
    "                    weights[j]=weights[j]+(learning_rate*inputs[i][j]*error)\n",
    "                    # inputs[i][j] - because we have a matrix in the inputs\n",
    "                    print('Weight updated: '+str(weights[j]))\n",
    "                print('Total error: '+ str(total_error))\n",
    "\n",
    "train()"
   ]
  },
  {
   "attachments": {},
   "cell_type": "markdown",
   "metadata": {},
   "source": [
    "### Visualization"
   ]
  },
  {
   "cell_type": "code",
   "execution_count": 92,
   "metadata": {},
   "outputs": [
    {
     "data": {
      "text/html": [
       "<div>\n",
       "<style scoped>\n",
       "    .dataframe tbody tr th:only-of-type {\n",
       "        vertical-align: middle;\n",
       "    }\n",
       "\n",
       "    .dataframe tbody tr th {\n",
       "        vertical-align: top;\n",
       "    }\n",
       "\n",
       "    .dataframe thead th {\n",
       "        text-align: right;\n",
       "    }\n",
       "</style>\n",
       "<table border=\"1\" class=\"dataframe\">\n",
       "  <thead>\n",
       "    <tr style=\"text-align: right;\">\n",
       "      <th></th>\n",
       "      <th>Age</th>\n",
       "      <th>Education</th>\n",
       "    </tr>\n",
       "  </thead>\n",
       "  <tbody>\n",
       "    <tr>\n",
       "      <th>0</th>\n",
       "      <td>0.00</td>\n",
       "      <td>0.0000</td>\n",
       "    </tr>\n",
       "    <tr>\n",
       "      <th>1</th>\n",
       "      <td>0.10</td>\n",
       "      <td>0.0625</td>\n",
       "    </tr>\n",
       "    <tr>\n",
       "      <th>2</th>\n",
       "      <td>0.15</td>\n",
       "      <td>0.1250</td>\n",
       "    </tr>\n",
       "    <tr>\n",
       "      <th>3</th>\n",
       "      <td>0.85</td>\n",
       "      <td>0.8125</td>\n",
       "    </tr>\n",
       "    <tr>\n",
       "      <th>4</th>\n",
       "      <td>0.90</td>\n",
       "      <td>0.8750</td>\n",
       "    </tr>\n",
       "    <tr>\n",
       "      <th>5</th>\n",
       "      <td>1.00</td>\n",
       "      <td>1.0000</td>\n",
       "    </tr>\n",
       "  </tbody>\n",
       "</table>\n",
       "</div>"
      ],
      "text/plain": [
       "    Age  Education\n",
       "0  0.00     0.0000\n",
       "1  0.10     0.0625\n",
       "2  0.15     0.1250\n",
       "3  0.85     0.8125\n",
       "4  0.90     0.8750\n",
       "5  1.00     1.0000"
      ]
     },
     "execution_count": 92,
     "metadata": {},
     "output_type": "execute_result"
    }
   ],
   "source": [
    "import pandas as pd\n",
    "df1=pd.DataFrame(data=inputs, columns=[\"Age\",\"Education\"])\n",
    "df1\n"
   ]
  },
  {
   "cell_type": "code",
   "execution_count": 93,
   "metadata": {},
   "outputs": [
    {
     "data": {
      "text/html": [
       "<div>\n",
       "<style scoped>\n",
       "    .dataframe tbody tr th:only-of-type {\n",
       "        vertical-align: middle;\n",
       "    }\n",
       "\n",
       "    .dataframe tbody tr th {\n",
       "        vertical-align: top;\n",
       "    }\n",
       "\n",
       "    .dataframe thead th {\n",
       "        text-align: right;\n",
       "    }\n",
       "</style>\n",
       "<table border=\"1\" class=\"dataframe\">\n",
       "  <thead>\n",
       "    <tr style=\"text-align: right;\">\n",
       "      <th></th>\n",
       "      <th>Age</th>\n",
       "      <th>Education</th>\n",
       "      <th>Class</th>\n",
       "    </tr>\n",
       "  </thead>\n",
       "  <tbody>\n",
       "    <tr>\n",
       "      <th>0</th>\n",
       "      <td>0.00</td>\n",
       "      <td>0.0000</td>\n",
       "      <td>0</td>\n",
       "    </tr>\n",
       "    <tr>\n",
       "      <th>1</th>\n",
       "      <td>0.10</td>\n",
       "      <td>0.0625</td>\n",
       "      <td>0</td>\n",
       "    </tr>\n",
       "    <tr>\n",
       "      <th>2</th>\n",
       "      <td>0.15</td>\n",
       "      <td>0.1250</td>\n",
       "      <td>0</td>\n",
       "    </tr>\n",
       "    <tr>\n",
       "      <th>3</th>\n",
       "      <td>0.85</td>\n",
       "      <td>0.8125</td>\n",
       "      <td>1</td>\n",
       "    </tr>\n",
       "    <tr>\n",
       "      <th>4</th>\n",
       "      <td>0.90</td>\n",
       "      <td>0.8750</td>\n",
       "      <td>1</td>\n",
       "    </tr>\n",
       "    <tr>\n",
       "      <th>5</th>\n",
       "      <td>1.00</td>\n",
       "      <td>1.0000</td>\n",
       "      <td>1</td>\n",
       "    </tr>\n",
       "  </tbody>\n",
       "</table>\n",
       "</div>"
      ],
      "text/plain": [
       "    Age  Education  Class\n",
       "0  0.00     0.0000      0\n",
       "1  0.10     0.0625      0\n",
       "2  0.15     0.1250      0\n",
       "3  0.85     0.8125      1\n",
       "4  0.90     0.8750      1\n",
       "5  1.00     1.0000      1"
      ]
     },
     "execution_count": 93,
     "metadata": {},
     "output_type": "execute_result"
    }
   ],
   "source": [
    "df2=pd.DataFrame(data=outputs, columns=[\"Class\"])\n",
    "df=pd.concat([df1,df2],axis=1)\n",
    "df"
   ]
  },
  {
   "cell_type": "code",
   "execution_count": 94,
   "metadata": {},
   "outputs": [
    {
     "data": {
      "text/plain": [
       "<seaborn.axisgrid.FacetGrid at 0x7fce01e27280>"
      ]
     },
     "execution_count": 94,
     "metadata": {},
     "output_type": "execute_result"
    },
    {
     "data": {
      "image/png": "[encoded data removed]",
      "text/plain": [
       "<Figure size 558.875x500 with 1 Axes>"
      ]
     },
     "metadata": {},
     "output_type": "display_data"
    }
   ],
   "source": [
    "import seaborn as sb\n",
    "sb.relplot(x=\"Age\",y=\"Education\",data=df,hue=\"Class\")\n",
    "\n"
   ]
  },
  {
   "attachments": {},
   "cell_type": "markdown",
   "metadata": {},
   "source": [
    "### Classification"
   ]
  },
  {
   "cell_type": "code",
   "execution_count": 95,
   "metadata": {},
   "outputs": [
    {
     "data": {
      "text/plain": [
       "array([0.635  , 0.61875])"
      ]
     },
     "execution_count": 95,
     "metadata": {},
     "output_type": "execute_result"
    }
   ],
   "source": [
    "weights"
   ]
  },
  {
   "cell_type": "code",
   "execution_count": 96,
   "metadata": {},
   "outputs": [
    {
     "data": {
      "text/plain": [
       "array([[17,  5],\n",
       "       [25,  8],\n",
       "       [45, 10],\n",
       "       [31, 20]])"
      ]
     },
     "execution_count": 96,
     "metadata": {},
     "output_type": "execute_result"
    }
   ],
   "source": [
    "test_inputs=np.array([[17,5],[25,8],[45,10],[31,20]])\n",
    "test_inputs"
   ]
  },
  {
   "cell_type": "code",
   "execution_count": 97,
   "metadata": {},
   "outputs": [
    {
     "data": {
      "text/plain": [
       "array([[-0.05  ,  0.1875],\n",
       "       [ 0.35  ,  0.375 ],\n",
       "       [ 1.35  ,  0.5   ],\n",
       "       [ 0.65  ,  1.125 ]])"
      ]
     },
     "execution_count": 97,
     "metadata": {},
     "output_type": "execute_result"
    }
   ],
   "source": [
    "test_inputs=scaler.transform(test_inputs) # normalize test_inputs as same as with train data previously\n",
    "test_inputs"
   ]
  },
  {
   "cell_type": "code",
   "execution_count": 98,
   "metadata": {},
   "outputs": [
    {
     "name": "stdout",
     "output_type": "stream",
     "text": [
      "0\n",
      "0\n",
      "1\n",
      "1\n"
     ]
    }
   ],
   "source": [
    "for i in range(len(test_inputs)):\n",
    "    # print(test_inputs[i]) to check\n",
    "    print(calculate_output(test_inputs[i]))"
   ]
  }
 ],
 "metadata": {
  "kernelspec": {
   "display_name": "neuralenv",
   "language": "python",
   "name": "python3"
  },
  "language_info": {
   "codemirror_mode": {
    "name": "ipython",
    "version": 3
   },
   "file_extension": ".py",
   "mimetype": "text/x-python",
   "name": "python",
   "nbconvert_exporter": "python",
   "pygments_lexer": "ipython3",
   "version": "3.10.9"
  },
  "orig_nbformat": 4
 },
 "nbformat": 4,
 "nbformat_minor": 2
}
